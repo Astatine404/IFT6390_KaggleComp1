{
  "nbformat": 4,
  "nbformat_minor": 0,
  "metadata": {
    "colab": {
      "name": "LogReg_Kaggle",
      "provenance": [],
      "collapsed_sections": [],
      "toc_visible": true,
      "include_colab_link": true
    },
    "kernelspec": {
      "display_name": "Python 3",
      "name": "python3"
    },
    "language_info": {
      "name": "python"
    },
    "accelerator": "GPU"
  },
  "cells": [
    {
      "cell_type": "markdown",
      "metadata": {
        "id": "view-in-github",
        "colab_type": "text"
      },
      "source": [
        "<a href=\"https://colab.research.google.com/github/Astatine404/IFT6390_KaggleComp1/blob/main/LogReg_Kaggle.ipynb\" target=\"_parent\"><img src=\"https://colab.research.google.com/assets/colab-badge.svg\" alt=\"Open In Colab\"/></a>"
      ]
    },
    {
      "cell_type": "markdown",
      "metadata": {
        "id": "Nv45Ays6Ee-l"
      },
      "source": [
        "# Data Preprocessing"
      ]
    },
    {
      "cell_type": "code",
      "metadata": {
        "id": "W6n65gIZT8S3"
      },
      "source": [
        "import math\n",
        "import numpy as np\n",
        "import urllib.request\n",
        "import random\n",
        "import matplotlib.pyplot as plt\n",
        "import pandas as pd\n",
        "from collections import Counter"
      ],
      "execution_count": 1,
      "outputs": []
    },
    {
      "cell_type": "code",
      "metadata": {
        "id": "j1lXI5S2tY2T"
      },
      "source": [
        "def minmax_scale(X, max, min):\n",
        "    X_std = (X - X.min(axis=0)) / (X.max(axis=0) - X.min(axis=0))\n",
        "    X_scaled = X_std * (max - min) + min\n",
        "    return X_scaled\n",
        "\n",
        "def standardize(X):\n",
        "  return (X - X.mean(axis=0)) / X.std(axis=0)"
      ],
      "execution_count": 2,
      "outputs": []
    },
    {
      "cell_type": "code",
      "metadata": {
        "id": "6O6sfa3APZNY",
        "colab": {
          "base_uri": "https://localhost:8080/"
        },
        "outputId": "dd9c9d1b-40b8-4f66-a1e5-b995e9c5bd39"
      },
      "source": [
        "data = np.loadtxt(urllib.request.urlopen(\"https://transfer.sh/dlcC5z/train.csv\"), delimiter=\",\", skiprows=1)\n",
        "\n",
        "# Remove index column \n",
        "data = data[:, 1:]\n",
        "\n",
        "# Remove duplicates\n",
        "df = pd.DataFrame(data=data)\n",
        "df = df.drop_duplicates()\n",
        "data = df.to_numpy()\n",
        "\n",
        "# Random Undersampling of class 0\n",
        "del_ind_ = np.where(data[:, -1] == 0)[0]\n",
        "del_ind_ = np.random.choice(del_ind_, 7000, replace=False)\n",
        "data = np.delete(data, del_ind_, axis=0)\n",
        "\n",
        "# Number of classes\n",
        "n_classes = 3\n",
        "# Size of training set\n",
        "n_train = math.floor(0.9 * data.shape[0])\n",
        "\n",
        "# Seed the randomizer\n",
        "random.seed(890)\n",
        "# Randomly choose indexes for the train and test dataset\n",
        "inds = list(range(data.shape[0]))\n",
        "random.shuffle(inds)\n",
        "train_inds = inds[:n_train]\n",
        "test_inds = inds[n_train:]\n",
        "\n",
        "# Split the data into train and test sets\n",
        "train_set = data[train_inds, :]\n",
        "test_set = data[test_inds, :]\n",
        "\n",
        "# Resample to address class imbalance\n",
        "# from sklearn.utils import resample\n",
        "\n",
        "# labels = train_set[:, -1]\n",
        "# features = train_set[:, :-1]\n",
        "# majority_size = labels[labels == 0].size\n",
        "# minority_1 = train_set[labels == 1]\n",
        "# minority_2 = train_set[labels == 2]\n",
        "\n",
        "# minority_1_aug = resample(minority_1, replace=True, n_samples=(majority_size - minority_1.shape[0])//2)\n",
        "# minority_2_aug = resample(minority_2, replace=True, n_samples=(majority_size - minority_2.shape[0])//2)\n",
        "\n",
        "# train_set = np.concatenate((train_set, minority_1_aug, minority_2_aug))\n",
        "\n",
        "#Separate the test set into inputs and labels\n",
        "test_inputs = test_set[:, :-1]\n",
        "test_labels = test_set[:, -1].astype('int32')\n",
        "train_inputs = train_set[:, :-1]\n",
        "train_labels = train_set[:, -1].astype('int32')\n",
        "\n",
        "train_inputs_scaled = standardize(train_inputs)\n",
        "test_inputs_scaled = (test_inputs - train_inputs.mean(axis=0)) / train_inputs.std(axis=0)\n",
        "print(Counter(train_labels))"
      ],
      "execution_count": 4,
      "outputs": [
        {
          "output_type": "stream",
          "name": "stdout",
          "text": [
            "Counter({0: 11101, 2: 4695, 1: 1090})\n"
          ]
        }
      ]
    },
    {
      "cell_type": "code",
      "metadata": {
        "colab": {
          "base_uri": "https://localhost:8080/",
          "height": 313
        },
        "id": "UWCmHQm_QHPP",
        "outputId": "e6737b14-6b79-4eb9-b49a-b2ab92ab2a0f"
      },
      "source": [
        "labels = data[:, -1]\n",
        "height = [labels[labels==0].size, labels[labels==1].size, labels[labels==2].size]\n",
        "plt.bar(np.unique(labels), height=height)\n",
        "plt.xticks(range(0,3))\n",
        "plt.title(\"Frequency of classes\")\n",
        "plt.xlabel(\"Class\")\n",
        "plt.ylabel(\"Frequency\")"
      ],
      "execution_count": 22,
      "outputs": [
        {
          "output_type": "execute_result",
          "data": {
            "text/plain": [
              "Text(0, 0.5, 'Frequency')"
            ]
          },
          "metadata": {},
          "execution_count": 22
        },
        {
          "output_type": "display_data",
          "data": {
            "image/png": "[encoded data removed]",
            "text/plain": [
              "<Figure size 432x288 with 1 Axes>"
            ]
          },
          "metadata": {
            "needs_background": "light"
          }
        }
      ]
    },
    {
      "cell_type": "markdown",
      "metadata": {
        "id": "fZD8zp0xVvC0"
      },
      "source": [
        "\n",
        "\n",
        "# Feature Selection (only for visualisation)"
      ]
    },
    {
      "cell_type": "code",
      "metadata": {
        "colab": {
          "base_uri": "https://localhost:8080/",
          "height": 313
        },
        "id": "yeG8DCc7G9bU",
        "outputId": "e113f72e-f56e-4748-e4f2-a8620c9b1229"
      },
      "source": [
        "from sklearn.feature_selection import SelectKBest\n",
        "from sklearn.feature_selection import chi2\n",
        "\n",
        "feat_selector = SelectKBest(chi2, k=7)\n",
        "train_inputs_minmax = (train_inputs_scaled - train_inputs_scaled.min(axis=0)) / (train_inputs_scaled.max(axis=0) - train_inputs_scaled.min(axis=0))\n",
        "feat_selector.fit(train_inputs_minmax, train_labels)\n",
        "# train_inputs_scaled = train_inputs_scaled[:, feat_selector.get_support(indices=True)]\n",
        "# test_inputs_scaled = test_inputs_scaled[:, feat_selector.get_support(indices=True)]\n",
        "feature_nos = np.arange(feat_selector.scores_.size)\n",
        "feature_nos = feature_nos[np.argsort(feat_selector.scores_)].astype('str')\n",
        "feat_selector.scores_.sort()\n",
        "plt.bar(feature_nos, feat_selector.scores_)\n",
        "plt.xticks(feature_nos)\n",
        "plt.title(\"Feature importance\")\n",
        "plt.xlabel(\"Feature #\")\n",
        "plt.ylabel(\"Chi2 score\")"
      ],
      "execution_count": null,
      "outputs": [
        {
          "output_type": "execute_result",
          "data": {
            "text/plain": [
              "Text(0, 0.5, 'Chi2 score')"
            ]
          },
          "metadata": {},
          "execution_count": 8
        },
        {
          "output_type": "display_data",
          "data": {
            "image/png": "[encoded data removed]",
            "text/plain": [
              "<Figure size 432x288 with 1 Axes>"
            ]
          },
          "metadata": {
            "needs_background": "light"
          }
        }
      ]
    },
    {
      "cell_type": "markdown",
      "metadata": {
        "id": "Jmc2xNuxXfre"
      },
      "source": [
        "# Training"
      ]
    },
    {
      "cell_type": "code",
      "metadata": {
        "id": "nyI7PsRg4c2y"
      },
      "source": [
        "def softmax(z):\n",
        "  soft = (np.exp(z).T / np.sum(np.exp(z),axis=1)).T \n",
        "  return soft"
      ],
      "execution_count": 5,
      "outputs": []
    },
    {
      "cell_type": "code",
      "metadata": {
        "id": "wL8NEyLL31DX"
      },
      "source": [
        "def one_hot(a, num_classes):\n",
        "  return np.squeeze(np.eye(num_classes)[a.reshape(-1)])"
      ],
      "execution_count": 6,
      "outputs": []
    },
    {
      "cell_type": "code",
      "metadata": {
        "id": "xtTw2DkRtkb4"
      },
      "source": [
        "def shuffle_batch(x, y):\n",
        "  assert x.shape[0] == y.shape[0]\n",
        "  inds = list(range(x.shape[0]))\n",
        "  np.random.shuffle(np.array(inds))\n",
        "  return x[inds, :], y[inds]"
      ],
      "execution_count": 7,
      "outputs": []
    },
    {
      "cell_type": "code",
      "metadata": {
        "id": "J11_naZTTQHL"
      },
      "source": [
        "def confusion_matrix(true_labels, pred_labels):\n",
        "\n",
        "    matrix = np.zeros((n_classes, n_classes))\n",
        "\n",
        "    for (true, pred) in zip(true_labels, pred_labels):\n",
        "        matrix[true][pred] += 1\n",
        "        pass\n",
        "\n",
        "    return matrix.astype('int32')\n",
        "\n",
        "def add_intercept(X):\n",
        "        intercept = np.ones((X.shape[0], 1))\n",
        "        return np.concatenate((intercept, X), axis=1)"
      ],
      "execution_count": 8,
      "outputs": []
    },
    {
      "cell_type": "code",
      "metadata": {
        "colab": {
          "base_uri": "https://localhost:8080/"
        },
        "id": "KMRJ5sb_4bf2",
        "outputId": "86a9b3ad-b9d4-43b1-c92c-6eb250a962c8"
      },
      "source": [
        "!pip install cupy-cuda111"
      ],
      "execution_count": null,
      "outputs": [
        {
          "output_type": "stream",
          "name": "stdout",
          "text": [
            "Requirement already satisfied: cupy-cuda111 in /usr/local/lib/python3.7/dist-packages (9.4.0)\n",
            "Requirement already satisfied: numpy<1.24,>=1.17 in /usr/local/lib/python3.7/dist-packages (from cupy-cuda111) (1.19.5)\n",
            "Requirement already satisfied: fastrlock>=0.5 in /usr/local/lib/python3.7/dist-packages (from cupy-cuda111) (0.6)\n"
          ]
        }
      ]
    },
    {
      "cell_type": "code",
      "metadata": {
        "id": "nZfJTZtAXg77"
      },
      "source": [
        "import cupy as np\n",
        "import numpy as np1\n",
        "import pandas as pd\n",
        "import sys\n",
        "from sklearn.metrics import recall_score, roc_auc_score\n",
        "\n",
        "class LinearClassifier:\n",
        "\n",
        "  def loss(self, X, Y, W, mu):\n",
        "      Z = - X @ W     # examples x classes\n",
        "      N = X.shape[0]\n",
        "      P = softmax(Z)\n",
        "      loss = 1/N * ((-np.sum(Y * np.log(P))) + mu * (W ** 2).sum())\n",
        "      return loss\n",
        "\n",
        "  def gradient(self, X, Y, W, mu):\n",
        "      Z = - X @ W\n",
        "      P = softmax(Z)\n",
        "      N = X.shape[0]\n",
        "      gd = 1/N * ((X.T @ (Y - P)) + 2 * mu * W)       # examples x features\n",
        "      return gd\n",
        "\n",
        "  def gradient_descent(self, X, Y, max_iter=1000, eta=0.005, mu=0.5, batch_size=256):\n",
        "      Y_onehot = one_hot(Y, 3)\n",
        "      W = np.zeros((X.shape[1] + 1, Y_onehot.shape[1]))\n",
        "      X = add_intercept(X)\n",
        "      step = 0\n",
        "      step_lst = [] \n",
        "      loss_lst = []\n",
        "      W_lst = []\n",
        "  \n",
        "      while step < max_iter:\n",
        "        prev_loss = 0\n",
        "        loss_iter = 0\n",
        "        x, y = shuffle_batch(X, Y_onehot)\n",
        "        # W -= eta * self.gradient(x, y, W, mu)\n",
        "        # loss_iter = self.loss(x, y, W, mu)\n",
        "        for start in range(0, x.shape[0], batch_size):\n",
        "          stop = start + batch_size\n",
        "          x_ = x[start:stop, :]\n",
        "          y_ = y[start:stop]\n",
        "          W -= eta * self.gradient(x_, y_, W, mu)\n",
        "          loss_iter += self.loss(x_, y_, W, mu)\n",
        "        step += 1\n",
        "        loss_iter /= (x.shape[0] // batch_size)\n",
        "        step_lst.append(step)\n",
        "        W_lst.append(W)\n",
        "        loss_lst.append(loss_iter)\n",
        "        train_score = (self.predict(np.array(X), W, train=True) == np.array(Y)).mean() * 100\n",
        "        test_pred = self.predict(np.array(test_inputs_scaled), W)\n",
        "        test_score = (test_pred == np.array(test_labels)).mean() * 100\n",
        "        recall = recall_score(test_labels, np.asnumpy(test_pred), average=None)\n",
        "        roc=0\n",
        "        if step % 10 == 0:\n",
        "          print(\"step: {:d} loss: {:.4f} train %: {:.4f} test %: {:.4f} recall %:\"\n",
        "          .format(step, loss_iter, train_score, test_score), recall)\n",
        "          #eta = 100/step\n",
        "          \n",
        "\n",
        "      df = pd.DataFrame({\n",
        "          'step': step_lst, \n",
        "          'loss': loss_lst\n",
        "      })\n",
        "\n",
        "      # class wise accuracy\n",
        "      for label in range(3):\n",
        "        print(\"Class\", label, (self.predict(np.array(test_inputs_scaled[np1.argwhere(test_labels == label).T[0], :]), W, final=True) == label).mean() * 100, \"%\")\n",
        "      return df, W"
      ],
      "execution_count": 14,
      "outputs": []
    },
    {
      "cell_type": "code",
      "metadata": {
        "id": "tpextBR5XjGs"
      },
      "source": [
        "class Multiclass(LinearClassifier):\n",
        "    def fit(self, X, Y):\n",
        "        self.loss_steps, self.W = self.gradient_descent(X, Y)\n",
        "\n",
        "    def loss_plot(self):\n",
        "        return self.loss_steps.astype(float).plot(\n",
        "            x='step', \n",
        "            y='loss',\n",
        "            xlabel='step',\n",
        "            ylabel='loss'\n",
        "        )\n",
        "\n",
        "    def predict(self, H, W, train=False, final=False):\n",
        "        if not train:\n",
        "          H = add_intercept(H)\n",
        "        Z = - H @ W\n",
        "        P = softmax(Z)\n",
        "        return np.argmax(P, axis=1)\n",
        "\n",
        "\n",
        "    def predict_prob(self, H, W, train=False):\n",
        "        if not train:\n",
        "          H = add_intercept(H)\n",
        "        Z = - H @ W\n",
        "        P = softmax(Z)\n",
        "        return P"
      ],
      "execution_count": 10,
      "outputs": []
    },
    {
      "cell_type": "code",
      "metadata": {
        "id": "6jiCn2LuX1Xz"
      },
      "source": [
        "X = np.array(train_inputs_scaled)\n",
        "Y = np.array(train_labels)"
      ],
      "execution_count": 11,
      "outputs": []
    },
    {
      "cell_type": "code",
      "metadata": {
        "colab": {
          "base_uri": "https://localhost:8080/"
        },
        "id": "p4jp1l-uX1pR",
        "outputId": "bb53f855-6908-4e14-963c-647b7e0d4294"
      },
      "source": [
        "model = Multiclass()\n",
        "model.fit(X, Y)"
      ],
      "execution_count": null,
      "outputs": [
        {
          "output_type": "stream",
          "name": "stdout",
          "text": [
            "step: 10 loss: 0.7401 train %: 70.6680 test %: 69.8988 recall %: [0.86792453 0.14285714 0.44360902]\n",
            "step: 20 loss: 0.6732 train %: 71.6925 test %: 71.6569 recall %: [0.90484003 0.13492063 0.42293233]\n",
            "step: 30 loss: 0.6490 train %: 72.1130 test %: 72.5626 recall %: [0.91796555 0.11904762 0.42857143]\n",
            "step: 40 loss: 0.6370 train %: 72.6815 test %: 72.6692 recall %: [0.91960623 0.12698413 0.42669173]\n",
            "step: 50 loss: 0.6301 train %: 72.8355 test %: 72.9355 recall %: [0.91796555 0.14285714 0.43609023]\n",
            "step: 60 loss: 0.6257 train %: 73.0605 test %: 72.9355 recall %: [0.91632486 0.16666667 0.43421053]\n",
            "step: 70 loss: 0.6227 train %: 73.2263 test %: 73.0954 recall %: [0.91468417 0.1984127  0.43609023]\n",
            "step: 80 loss: 0.6205 train %: 73.3448 test %: 73.0421 recall %: [0.91222313 0.20634921 0.43796992]\n",
            "step: 90 loss: 0.6189 train %: 73.3744 test %: 73.2552 recall %: [0.91222313 0.22222222 0.44172932]\n",
            "step: 100 loss: 0.6176 train %: 73.4632 test %: 73.3085 recall %: [0.91140279 0.23015873 0.44360902]\n",
            "step: 110 loss: 0.6167 train %: 73.4869 test %: 73.5216 recall %: [0.91140279 0.23015873 0.45112782]\n",
            "step: 120 loss: 0.6159 train %: 73.5224 test %: 73.6281 recall %: [0.91058244 0.23015873 0.45676692]\n",
            "step: 130 loss: 0.6152 train %: 73.6113 test %: 73.7880 recall %: [0.91058244 0.23015873 0.46240602]\n",
            "step: 140 loss: 0.6147 train %: 73.6350 test %: 73.7880 recall %: [0.9097621  0.23015873 0.46428571]\n",
            "step: 150 loss: 0.6143 train %: 73.7297 test %: 73.8945 recall %: [0.9097621  0.23015873 0.46804511]\n",
            "step: 160 loss: 0.6139 train %: 73.7475 test %: 73.8945 recall %: [0.9097621  0.23015873 0.46804511]\n",
            "step: 170 loss: 0.6136 train %: 73.7475 test %: 74.0543 recall %: [0.91058244 0.25396825 0.46616541]\n",
            "step: 180 loss: 0.6133 train %: 73.7593 test %: 74.1076 recall %: [0.91058244 0.25396825 0.46804511]\n",
            "step: 190 loss: 0.6130 train %: 73.7949 test %: 74.0543 recall %: [0.91058244 0.25396825 0.46616541]\n",
            "step: 200 loss: 0.6128 train %: 73.8185 test %: 74.1076 recall %: [0.91058244 0.25396825 0.46804511]\n",
            "step: 210 loss: 0.6126 train %: 73.8422 test %: 74.1076 recall %: [0.91058244 0.25396825 0.46804511]\n",
            "step: 220 loss: 0.6125 train %: 73.8541 test %: 74.1076 recall %: [0.91058244 0.25396825 0.46804511]\n",
            "step: 230 loss: 0.6123 train %: 73.8659 test %: 74.1076 recall %: [0.91058244 0.25396825 0.46804511]\n",
            "step: 240 loss: 0.6122 train %: 73.8955 test %: 74.0543 recall %: [0.91058244 0.25396825 0.46616541]\n",
            "step: 250 loss: 0.6121 train %: 73.8837 test %: 74.2142 recall %: [0.91058244 0.27777778 0.46616541]\n",
            "step: 260 loss: 0.6120 train %: 73.9192 test %: 74.2142 recall %: [0.91058244 0.27777778 0.46616541]\n",
            "step: 270 loss: 0.6119 train %: 73.9370 test %: 74.2142 recall %: [0.91058244 0.27777778 0.46616541]\n",
            "step: 280 loss: 0.6118 train %: 73.9666 test %: 74.1609 recall %: [0.9097621  0.27777778 0.46616541]\n",
            "step: 290 loss: 0.6117 train %: 73.9607 test %: 74.2142 recall %: [0.9097621  0.27777778 0.46804511]\n",
            "step: 300 loss: 0.6116 train %: 73.9903 test %: 74.2674 recall %: [0.9097621  0.28571429 0.46804511]\n",
            "step: 310 loss: 0.6116 train %: 74.0021 test %: 74.2674 recall %: [0.9097621  0.28571429 0.46804511]\n",
            "step: 320 loss: 0.6115 train %: 74.0317 test %: 74.2674 recall %: [0.9097621  0.28571429 0.46804511]\n",
            "step: 330 loss: 0.6114 train %: 74.0377 test %: 74.2674 recall %: [0.91058244 0.28571429 0.46616541]\n",
            "step: 340 loss: 0.6114 train %: 74.0377 test %: 74.3207 recall %: [0.91058244 0.29365079 0.46616541]\n",
            "step: 350 loss: 0.6113 train %: 74.0377 test %: 74.3740 recall %: [0.91140279 0.29365079 0.46616541]\n",
            "step: 360 loss: 0.6113 train %: 74.0614 test %: 74.3207 recall %: [0.91058244 0.29365079 0.46616541]\n",
            "step: 370 loss: 0.6113 train %: 74.0673 test %: 74.3207 recall %: [0.91058244 0.29365079 0.46616541]\n",
            "step: 380 loss: 0.6112 train %: 74.0673 test %: 74.2674 recall %: [0.91058244 0.28571429 0.46616541]\n",
            "step: 390 loss: 0.6112 train %: 74.0732 test %: 74.2674 recall %: [0.91058244 0.28571429 0.46616541]\n",
            "step: 400 loss: 0.6112 train %: 74.0850 test %: 74.3207 recall %: [0.91140279 0.28571429 0.46616541]\n",
            "step: 410 loss: 0.6111 train %: 74.0969 test %: 74.3207 recall %: [0.91140279 0.28571429 0.46616541]\n",
            "step: 420 loss: 0.6111 train %: 74.1087 test %: 74.3740 recall %: [0.91140279 0.28571429 0.46804511]\n",
            "step: 430 loss: 0.6111 train %: 74.1087 test %: 74.3740 recall %: [0.91140279 0.28571429 0.46804511]\n",
            "step: 440 loss: 0.6111 train %: 74.0969 test %: 74.4273 recall %: [0.91140279 0.28571429 0.46992481]\n",
            "step: 450 loss: 0.6110 train %: 74.1147 test %: 74.3740 recall %: [0.91058244 0.28571429 0.46992481]\n",
            "step: 460 loss: 0.6110 train %: 74.1206 test %: 74.3207 recall %: [0.9097621  0.28571429 0.46992481]\n",
            "step: 470 loss: 0.6110 train %: 74.1147 test %: 74.3207 recall %: [0.9097621  0.28571429 0.46992481]\n",
            "step: 480 loss: 0.6110 train %: 74.1502 test %: 74.3207 recall %: [0.9097621  0.28571429 0.46992481]\n",
            "step: 490 loss: 0.6110 train %: 74.1561 test %: 74.3207 recall %: [0.9097621  0.28571429 0.46992481]\n",
            "step: 500 loss: 0.6109 train %: 74.1620 test %: 74.3207 recall %: [0.9097621  0.28571429 0.46992481]\n",
            "step: 510 loss: 0.6109 train %: 74.1502 test %: 74.3207 recall %: [0.9097621  0.28571429 0.46992481]\n",
            "step: 520 loss: 0.6109 train %: 74.1383 test %: 74.3207 recall %: [0.9097621  0.28571429 0.46992481]\n",
            "step: 530 loss: 0.6109 train %: 74.1383 test %: 74.3740 recall %: [0.9097621  0.28571429 0.47180451]\n",
            "step: 540 loss: 0.6109 train %: 74.1502 test %: 74.3207 recall %: [0.90894176 0.28571429 0.47180451]\n",
            "step: 550 loss: 0.6109 train %: 74.1443 test %: 74.3207 recall %: [0.90894176 0.28571429 0.47180451]\n",
            "step: 560 loss: 0.6109 train %: 74.1443 test %: 74.3207 recall %: [0.90894176 0.28571429 0.47180451]\n",
            "step: 570 loss: 0.6109 train %: 74.1443 test %: 74.3207 recall %: [0.90894176 0.28571429 0.47180451]\n",
            "step: 580 loss: 0.6108 train %: 74.1502 test %: 74.3207 recall %: [0.90894176 0.28571429 0.47180451]\n",
            "step: 590 loss: 0.6108 train %: 74.1561 test %: 74.3207 recall %: [0.90894176 0.28571429 0.47180451]\n",
            "step: 600 loss: 0.6108 train %: 74.1561 test %: 74.3207 recall %: [0.90894176 0.28571429 0.47180451]\n",
            "step: 610 loss: 0.6108 train %: 74.1620 test %: 74.2674 recall %: [0.90894176 0.28571429 0.46992481]\n",
            "step: 620 loss: 0.6108 train %: 74.1620 test %: 74.3207 recall %: [0.90894176 0.28571429 0.47180451]\n",
            "step: 630 loss: 0.6108 train %: 74.1679 test %: 74.3740 recall %: [0.90894176 0.28571429 0.47368421]\n",
            "step: 640 loss: 0.6108 train %: 74.1679 test %: 74.3740 recall %: [0.90894176 0.28571429 0.47368421]\n",
            "step: 650 loss: 0.6108 train %: 74.1620 test %: 74.4273 recall %: [0.9097621  0.28571429 0.47368421]\n",
            "step: 660 loss: 0.6108 train %: 74.1561 test %: 74.4273 recall %: [0.9097621  0.28571429 0.47368421]\n",
            "step: 670 loss: 0.6108 train %: 74.1561 test %: 74.4273 recall %: [0.9097621  0.28571429 0.47368421]\n",
            "step: 680 loss: 0.6108 train %: 74.1561 test %: 74.4273 recall %: [0.9097621  0.28571429 0.47368421]\n",
            "step: 690 loss: 0.6108 train %: 74.1620 test %: 74.4806 recall %: [0.91058244 0.28571429 0.47368421]\n",
            "step: 700 loss: 0.6108 train %: 74.1620 test %: 74.4806 recall %: [0.91058244 0.28571429 0.47368421]\n",
            "step: 710 loss: 0.6108 train %: 74.1798 test %: 74.4806 recall %: [0.91058244 0.28571429 0.47368421]\n",
            "step: 720 loss: 0.6108 train %: 74.1976 test %: 74.4806 recall %: [0.91058244 0.28571429 0.47368421]\n",
            "step: 730 loss: 0.6108 train %: 74.1976 test %: 74.4806 recall %: [0.91058244 0.28571429 0.47368421]\n",
            "step: 740 loss: 0.6108 train %: 74.1976 test %: 74.4806 recall %: [0.91058244 0.28571429 0.47368421]\n",
            "step: 750 loss: 0.6107 train %: 74.1976 test %: 74.4806 recall %: [0.91058244 0.28571429 0.47368421]\n",
            "step: 760 loss: 0.6107 train %: 74.2035 test %: 74.4806 recall %: [0.91058244 0.28571429 0.47368421]\n",
            "step: 770 loss: 0.6107 train %: 74.2094 test %: 74.4806 recall %: [0.91058244 0.28571429 0.47368421]\n",
            "step: 780 loss: 0.6107 train %: 74.2035 test %: 74.4273 recall %: [0.9097621  0.28571429 0.47368421]\n",
            "step: 790 loss: 0.6107 train %: 74.2035 test %: 74.4273 recall %: [0.9097621  0.28571429 0.47368421]\n",
            "step: 800 loss: 0.6107 train %: 74.2035 test %: 74.3740 recall %: [0.9097621  0.28571429 0.47180451]\n",
            "step: 810 loss: 0.6107 train %: 74.1976 test %: 74.3740 recall %: [0.9097621  0.28571429 0.47180451]\n",
            "step: 820 loss: 0.6107 train %: 74.1976 test %: 74.3740 recall %: [0.9097621  0.28571429 0.47180451]\n",
            "step: 830 loss: 0.6107 train %: 74.2035 test %: 74.3740 recall %: [0.9097621  0.28571429 0.47180451]\n",
            "step: 840 loss: 0.6107 train %: 74.1976 test %: 74.3740 recall %: [0.9097621  0.28571429 0.47180451]\n",
            "step: 850 loss: 0.6107 train %: 74.2035 test %: 74.3740 recall %: [0.9097621  0.28571429 0.47180451]\n",
            "step: 860 loss: 0.6107 train %: 74.2035 test %: 74.3740 recall %: [0.9097621  0.28571429 0.47180451]\n",
            "step: 870 loss: 0.6107 train %: 74.2035 test %: 74.3740 recall %: [0.9097621  0.28571429 0.47180451]\n",
            "step: 880 loss: 0.6107 train %: 74.2094 test %: 74.4273 recall %: [0.9097621  0.29365079 0.47180451]\n",
            "step: 890 loss: 0.6107 train %: 74.2212 test %: 74.4273 recall %: [0.9097621  0.29365079 0.47180451]\n",
            "step: 900 loss: 0.6107 train %: 74.2212 test %: 74.4273 recall %: [0.9097621  0.29365079 0.47180451]\n",
            "step: 910 loss: 0.6107 train %: 74.2212 test %: 74.4273 recall %: [0.9097621  0.29365079 0.47180451]\n",
            "step: 920 loss: 0.6107 train %: 74.2212 test %: 74.4273 recall %: [0.9097621  0.29365079 0.47180451]\n",
            "step: 930 loss: 0.6107 train %: 74.2212 test %: 74.4273 recall %: [0.9097621  0.29365079 0.47180451]\n",
            "step: 940 loss: 0.6107 train %: 74.2212 test %: 74.4273 recall %: [0.9097621  0.29365079 0.47180451]\n",
            "step: 950 loss: 0.6107 train %: 74.2153 test %: 74.4273 recall %: [0.9097621  0.29365079 0.47180451]\n",
            "step: 960 loss: 0.6107 train %: 74.2094 test %: 74.4273 recall %: [0.9097621  0.29365079 0.47180451]\n",
            "step: 970 loss: 0.6107 train %: 74.2094 test %: 74.4273 recall %: [0.9097621  0.29365079 0.47180451]\n",
            "step: 980 loss: 0.6107 train %: 74.2094 test %: 74.4273 recall %: [0.9097621  0.29365079 0.47180451]\n",
            "step: 990 loss: 0.6107 train %: 74.2094 test %: 74.4273 recall %: [0.9097621  0.29365079 0.47180451]\n",
            "step: 1000 loss: 0.6107 train %: 74.2094 test %: 74.4273 recall %: [0.9097621  0.29365079 0.47180451]\n",
            "Class 0 90.97621000820345 %\n",
            "Class 1 29.365079365079367 %\n",
            "Class 2 47.18045112781955 %\n"
          ]
        }
      ]
    },
    {
      "cell_type": "markdown",
      "metadata": {
        "id": "v9RTkR_EL2Jl"
      },
      "source": [
        "# Evaluation"
      ]
    },
    {
      "cell_type": "code",
      "metadata": {
        "colab": {
          "base_uri": "https://localhost:8080/"
        },
        "id": "x1Eiwi9w6XUF",
        "outputId": "2a00bb26-a673-4f59-9a4e-7d22ea3e21aa"
      },
      "source": [
        "from sklearn.metrics import classification_report\n",
        "import cupy as np\n",
        "print(classification_report(test_labels, np.asnumpy(model.predict(np.array(test_inputs_scaled), model.W)), digits=4))\n",
        "confusion_matrix(test_labels, np.asnumpy(model.predict(np.array(test_inputs_scaled), model.W)))"
      ],
      "execution_count": null,
      "outputs": [
        {
          "output_type": "stream",
          "name": "stdout",
          "text": [
            "              precision    recall  f1-score   support\n",
            "\n",
            "           0     0.7524    0.9098    0.8236      1219\n",
            "           1     0.7551    0.2937    0.4229       126\n",
            "           2     0.7090    0.4718    0.5666       532\n",
            "\n",
            "    accuracy                         0.7443      1877\n",
            "   macro avg     0.7388    0.5584    0.6044      1877\n",
            "weighted avg     0.7403    0.7443    0.7239      1877\n",
            "\n"
          ]
        },
        {
          "output_type": "execute_result",
          "data": {
            "text/plain": [
              "array([[1109,    7,  103],\n",
              "       [  89,   37,    0],\n",
              "       [ 276,    5,  251]], dtype=int32)"
            ]
          },
          "metadata": {},
          "execution_count": 67
        }
      ]
    },
    {
      "cell_type": "code",
      "metadata": {
        "colab": {
          "base_uri": "https://localhost:8080/",
          "height": 297
        },
        "id": "CsHzQmG8D_Sm",
        "outputId": "b2cfc6c3-4439-4aeb-cda2-8fb24bcece5a"
      },
      "source": [
        "model.loss_plot()"
      ],
      "execution_count": null,
      "outputs": [
        {
          "output_type": "execute_result",
          "data": {
            "text/plain": [
              "<matplotlib.axes._subplots.AxesSubplot at 0x7fe27dff5c10>"
            ]
          },
          "metadata": {},
          "execution_count": 380
        },
        {
          "output_type": "display_data",
          "data": {
            "image/png": "[encoded data removed]",
            "text/plain": [
              "<Figure size 432x288 with 1 Axes>"
            ]
          },
          "metadata": {
            "needs_background": "light"
          }
        }
      ]
    },
    {
      "cell_type": "code",
      "metadata": {
        "colab": {
          "base_uri": "https://localhost:8080/",
          "height": 374
        },
        "id": "PaPLttXvyJCm",
        "outputId": "95b48843-d7cc-4f65-beba-8cb0c5892ebc"
      },
      "source": [
        "import numpy as np\n",
        "kaggle_data = np.loadtxt(urllib.request.urlopen(\"https://transfer.sh/lCFfeo/test.csv\"), delimiter=\",\", skiprows=1)\n",
        "kaggle_data = kaggle_data[:, 1:]\n",
        "#pred = custom_predict(classifier, classifier2, kaggle_data)\n",
        "import cupy as np\n",
        "kaggle_data = standardize(np.array(kaggle_data))\n",
        "pred = np.asnumpy(model.predict(kaggle_data, model.W))\n",
        "import numpy as np\n",
        "print(pred[pred==0].size / pred.size, pred[pred==1].size / pred.size, pred[pred==2].size / pred.size)\n",
        "indices = np.array(list(i for i in range(pred.size)))\n",
        "result = np.empty((pred.size, 2))\n",
        "result[:, 0] = indices\n",
        "result[:, 1] = pred\n",
        "pd.DataFrame(data=result).tail(10)"
      ],
      "execution_count": null,
      "outputs": [
        {
          "output_type": "stream",
          "name": "stdout",
          "text": [
            "0.7942622950819672 0.017759562841530054 0.18797814207650274\n"
          ]
        },
        {
          "output_type": "execute_result",
          "data": {
            "text/html": [
              "<div>\n",
              "<style scoped>\n",
              "    .dataframe tbody tr th:only-of-type {\n",
              "        vertical-align: middle;\n",
              "    }\n",
              "\n",
              "    .dataframe tbody tr th {\n",
              "        vertical-align: top;\n",
              "    }\n",
              "\n",
              "    .dataframe thead th {\n",
              "        text-align: right;\n",
              "    }\n",
              "</style>\n",
              "<table border=\"1\" class=\"dataframe\">\n",
              "  <thead>\n",
              "    <tr style=\"text-align: right;\">\n",
              "      <th></th>\n",
              "      <th>0</th>\n",
              "      <th>1</th>\n",
              "    </tr>\n",
              "  </thead>\n",
              "  <tbody>\n",
              "    <tr>\n",
              "      <th>7310</th>\n",
              "      <td>7310.0</td>\n",
              "      <td>0.0</td>\n",
              "    </tr>\n",
              "    <tr>\n",
              "      <th>7311</th>\n",
              "      <td>7311.0</td>\n",
              "      <td>0.0</td>\n",
              "    </tr>\n",
              "    <tr>\n",
              "      <th>7312</th>\n",
              "      <td>7312.0</td>\n",
              "      <td>0.0</td>\n",
              "    </tr>\n",
              "    <tr>\n",
              "      <th>7313</th>\n",
              "      <td>7313.0</td>\n",
              "      <td>0.0</td>\n",
              "    </tr>\n",
              "    <tr>\n",
              "      <th>7314</th>\n",
              "      <td>7314.0</td>\n",
              "      <td>0.0</td>\n",
              "    </tr>\n",
              "    <tr>\n",
              "      <th>7315</th>\n",
              "      <td>7315.0</td>\n",
              "      <td>0.0</td>\n",
              "    </tr>\n",
              "    <tr>\n",
              "      <th>7316</th>\n",
              "      <td>7316.0</td>\n",
              "      <td>0.0</td>\n",
              "    </tr>\n",
              "    <tr>\n",
              "      <th>7317</th>\n",
              "      <td>7317.0</td>\n",
              "      <td>0.0</td>\n",
              "    </tr>\n",
              "    <tr>\n",
              "      <th>7318</th>\n",
              "      <td>7318.0</td>\n",
              "      <td>0.0</td>\n",
              "    </tr>\n",
              "    <tr>\n",
              "      <th>7319</th>\n",
              "      <td>7319.0</td>\n",
              "      <td>0.0</td>\n",
              "    </tr>\n",
              "  </tbody>\n",
              "</table>\n",
              "</div>"
            ],
            "text/plain": [
              "           0    1\n",
              "7310  7310.0  0.0\n",
              "7311  7311.0  0.0\n",
              "7312  7312.0  0.0\n",
              "7313  7313.0  0.0\n",
              "7314  7314.0  0.0\n",
              "7315  7315.0  0.0\n",
              "7316  7316.0  0.0\n",
              "7317  7317.0  0.0\n",
              "7318  7318.0  0.0\n",
              "7319  7319.0  0.0"
            ]
          },
          "metadata": {},
          "execution_count": 64
        }
      ]
    },
    {
      "cell_type": "code",
      "metadata": {
        "colab": {
          "base_uri": "https://localhost:8080/"
        },
        "id": "dGYDwbLUyM7U",
        "outputId": "aef60304-257b-47df-f088-ddc7cac48ac5"
      },
      "source": [
        "import numpy as np\n",
        "np.savetxt('result_9.csv', result, fmt=\"%d\", delimiter=\",\")\n",
        "!curl --upload-file ./result_9.csv http://transfer.sh/result_9.csv"
      ],
      "execution_count": null,
      "outputs": [
        {
          "output_type": "stream",
          "name": "stdout",
          "text": [
            "http://transfer.sh/At94Kl/result_9.csv"
          ]
        }
      ]
    },
    {
      "cell_type": "code",
      "metadata": {
        "id": "JVnUf8AlZSQI"
      },
      "source": [
        "lr05 = model005.loss_steps[:500]"
      ],
      "execution_count": 36,
      "outputs": []
    },
    {
      "cell_type": "code",
      "metadata": {
        "id": "EMymitC1a7vF"
      },
      "source": [
        "lr01 = model01.loss_steps"
      ],
      "execution_count": 40,
      "outputs": []
    },
    {
      "cell_type": "code",
      "metadata": {
        "id": "mXVKEUqbcnBO"
      },
      "source": [
        "lr005 = model05.loss_steps"
      ],
      "execution_count": 44,
      "outputs": []
    },
    {
      "cell_type": "code",
      "metadata": {
        "colab": {
          "base_uri": "https://localhost:8080/",
          "height": 282
        },
        "id": "ky129RmEdKes",
        "outputId": "6a4eeed5-43c5-441f-92c4-922e68cdfd2e"
      },
      "source": [
        "plt.plot(lr005[:200]['loss'].astype(float), label='0.005')\n",
        "plt.plot(lr01[:200]['loss'].astype(float), label='0.01')\n",
        "plt.plot(lr05[:200]['loss'].astype(float), label='0.05')\n",
        "plt.legend(loc=\"upper right\")"
      ],
      "execution_count": 56,
      "outputs": [
        {
          "output_type": "execute_result",
          "data": {
            "text/plain": [
              "<matplotlib.legend.Legend at 0x7f1d1baa0250>"
            ]
          },
          "metadata": {},
          "execution_count": 56
        },
        {
          "output_type": "display_data",
          "data": {
            "image/png": "[encoded data removed]",
            "text/plain": [
              "<Figure size 432x288 with 1 Axes>"
            ]
          },
          "metadata": {
            "needs_background": "light"
          }
        }
      ]
    },
    {
      "cell_type": "code",
      "metadata": {
        "id": "oVg3s9god4dc"
      },
      "source": [
        ""
      ],
      "execution_count": null,
      "outputs": []
    }
  ]
}